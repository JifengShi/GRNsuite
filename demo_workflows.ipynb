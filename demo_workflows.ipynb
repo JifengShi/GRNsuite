{
 "cells": [
  {
   "cell_type": "markdown",
   "metadata": {},
   "source": [
    "# GRNsuite Demo Workflows\n",
    "\n",
    "This notebook demonstrates both interactive and non-interactive workflows for processing electrophysiology data."
   ]
  },
  {
   "cell_type": "code",
   "execution_count": 1,
   "metadata": {},
   "outputs": [],
   "source": [
    "import grnsuite.preprocessing as preprocessing\n",
    "import grnsuite.spike_detection as spikes\n",
    "import grnsuite.utils as utils\n",
    "import matplotlib.pyplot as plt\n",
    "import os\n",
    "\n",
    "# Load parameters\n",
    "params = utils.load_parameters('parameters.yaml')\n",
    "\n",
    "# Set parameters from yaml\n",
    "filename = \"20231103-M04-sucr-100-Gal-A1-02.txt\"\n",
    "fs = params['sampling_rate']\n",
    "offset_time = params['offset_time']\n",
    "analysis_length = params['analysis_length']"
   ]
  },
  {
   "cell_type": "markdown",
   "metadata": {},
   "source": [
    "## Interactive Workflow\n",
    "\n",
    "This workflow allows manual inspection and adjustment at each step."
   ]
  },
  {
   "cell_type": "code",
   "execution_count": 2,
   "metadata": {},
   "outputs": [],
   "source": [
    "import matplotlib\n",
    "matplotlib.use(\"TkAgg\")  # Ensures the correct interactive backend is used\n",
    "\n",
    "# Load and process data interactively\n",
    "filepath = os.path.join(\"data\", filename)\n",
    "raw_data = preprocessing.load_ephys_data(filepath)\n",
    "\n",
    "# Interactive contact selection\n",
    "selected_signal = preprocessing.interactive_contact_selection(raw_data)\n",
    "\n",
    "# Filter and denoise\n",
    "filtered_data = preprocessing.ashfilt(selected_signal, [100, 1000], 'bandpass', fs=fs)\n",
    "denoised_data = preprocessing.ashfilt(filtered_data, None, 'noise', fs=fs)\n",
    "data_zoomed, current_time = preprocessing.zoom_data(denoised_data, fs, offset_time, analysis_length)\n",
    "\n",
    "# Plot results\n",
    "plt.figure(figsize=(10, 5))\n",
    "plt.plot(current_time, data_zoomed)\n",
    "plt.title(\"Processed Data\")\n",
    "plt.xlabel(\"Time (s)\")\n",
    "plt.ylabel(\"Voltage\")\n",
    "plt.show()"
   ]
  },
  {
   "cell_type": "code",
   "execution_count": 3,
   "metadata": {},
   "outputs": [],
   "source": [
    "# Interactive spike detection\n",
    "spike_times, spike_values, schmidt_threshold = spikes.schmidt_trigger_auto(data_zoomed, current_time)\n",
    "\n",
    "# Allow manual threshold adjustment starting from the same threshold\n",
    "manual_threshold = spikes.adjust_threshold(data_zoomed)  # Will use schmidt_trigger_auto internally\n",
    "spike_times, spike_values = spikes.detect_spikes_manual_threshold(data_zoomed, threshold=manual_threshold)\n",
    "\n",
    "# Plot results\n",
    "plt.figure(figsize=(10, 5))\n",
    "plt.plot(current_time, data_zoomed, label=\"Signal\")\n",
    "plt.scatter(current_time[spike_times], spike_values, color='red', label=\"Spikes\")\n",
    "plt.title(\"Detected Spikes (Interactive)\")\n",
    "plt.legend()\n",
    "plt.show()"
   ]
  },
  {
   "cell_type": "markdown",
   "metadata": {},
   "source": [
    "## Non-Interactive (Automated) Workflow\n",
    "\n",
    "This workflow runs automatically without user intervention - same as what Snakemake uses."
   ]
  },
  {
   "cell_type": "code",
   "execution_count": 5,
   "metadata": {},
   "outputs": [],
   "source": [
    "# Process data automatically\n",
    "output_dir = os.path.join(\"results\", filename.replace(\".txt\", \"\"))\n",
    "processed_data_path = preprocessing.load_and_process_data(\n",
    "    filepath, \n",
    "    output_dir,\n",
    "    param_file='parameters.yaml'  # Only need to specify filepath and output_dir now\n",
    ")\n",
    "\n",
    "# Detect spikes automatically\n",
    "spikes_path = spikes.detect_and_save_spikes(\n",
    "    processed_data_path,\n",
    "    output_dir,\n",
    "    param_file='parameters.yaml'  # Only need to specify data_path and output_dir now\n",
    ")\n",
    "\n",
    "# Load and plot results\n",
    "import pandas as pd\n",
    "\n",
    "processed_data = pd.read_csv(processed_data_path)\n",
    "detected_spikes = pd.read_csv(spikes_path)\n",
    "\n",
    "plt.figure(figsize=(10, 5))\n",
    "plt.plot(processed_data['time'], processed_data['voltage'], label=\"Signal\")\n",
    "plt.scatter(detected_spikes['spike_times'], detected_spikes['spike_values'], \n",
    "           color='red', label=\"Spikes\")\n",
    "plt.title(\"Detected Spikes (Automated)\")\n",
    "plt.legend()\n",
    "plt.show()"
   ]
  },
  {
   "cell_type": "markdown",
   "metadata": {},
   "source": [
    "## Compare Results\n",
    "\n",
    "You can use this section to compare the results from both workflows and decide if the automated settings need adjustment."
   ]
  },
  {
   "cell_type": "code",
   "execution_count": 8,
   "metadata": {},
   "outputs": [
    {
     "name": "stdout",
     "output_type": "stream",
     "text": [
      "Interactive workflow detected 208 spikes\n",
      "Automated workflow detected 208 spikes\n"
     ]
    }
   ],
   "source": [
    "print(f\"Interactive workflow detected {len(spike_times)} spikes\")\n",
    "print(f\"Automated workflow detected {len(detected_spikes)} spikes\")\n",
    "\n",
    "# Plot both results overlaid\n",
    "plt.figure(figsize=(12, 6))\n",
    "plt.plot(current_time, data_zoomed, 'b-', alpha=0.5, label=\"Signal\")\n",
    "\n",
    "# Add offset to interactive points for better visualization\n",
    "y_offset = 10  # Adjust this value to change the separation\n",
    "plt.scatter(current_time[spike_times], spike_values + y_offset, \n",
    "           color='red', label=\"Interactive\", alpha=0.6)\n",
    "plt.scatter(detected_spikes['spike_times'], detected_spikes['spike_values'], \n",
    "           color='green', label=\"Automated\", alpha=0.6)\n",
    "\n",
    "plt.title(\"Comparison of Detection Methods\")\n",
    "plt.legend()\n",
    "plt.show()"
   ]
  }
 ],
 "metadata": {
  "kernelspec": {
   "display_name": "venv",
   "language": "python",
   "name": "python3"
  },
  "language_info": {
   "codemirror_mode": {
    "name": "ipython",
    "version": 3
   },
   "file_extension": ".py",
   "mimetype": "text/x-python",
   "name": "python",
   "nbconvert_exporter": "python",
   "pygments_lexer": "ipython3",
   "version": "3.11.9"
  }
 },
 "nbformat": 4,
 "nbformat_minor": 2
}
