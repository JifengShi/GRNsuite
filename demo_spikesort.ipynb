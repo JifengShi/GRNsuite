{
 "cells": [
  {
   "cell_type": "markdown",
   "metadata": {},
   "source": [
    "## Interactive demo for spike sorting\n",
    "\n",
    "Demo uses the extracted waveforms from waveforms.csv within the results directory for a given recording. \n"
   ]
  },
  {
   "cell_type": "code",
   "execution_count": 1,
   "metadata": {},
   "outputs": [],
   "source": [
    "import grnsuite.spike_detection as spikes\n",
    "import grnsuite.spike_sorting as sorting\n",
    "import matplotlib.pyplot as plt\n",
    "import pandas as pd\n",
    "import numpy as np\n",
    "import os\n",
    "\n",
    "import matplotlib\n",
    "matplotlib.use(\"TkAgg\")  # Set the backend before creating any figures\n",
    "\n",
    "\n",
    "# Load waveforms from a results directory\n",
    "results_dir = \"results/20231103-M04-sucr-100-Gal-A1-02\"\n",
    "waveforms = pd.read_csv(os.path.join(results_dir, 'waveforms.csv')).values"
   ]
  },
  {
   "cell_type": "markdown",
   "metadata": {},
   "source": [
    "1. Reduce dimensions with SVD and cluster"
   ]
  },
  {
   "cell_type": "code",
   "execution_count": 2,
   "metadata": {},
   "outputs": [
    {
     "name": "stdout",
     "output_type": "stream",
     "text": [
      "Explained variance with 3 components: 98.37%\n",
      "Clusters: 2, Silhouette Score: 0.245\n",
      "Clusters: 3, Silhouette Score: 0.594\n",
      "Clusters: 4, Silhouette Score: 0.263\n",
      "Clusters: 5, Silhouette Score: 0.388\n",
      "Clusters: 6, Silhouette Score: 0.266\n",
      "Clusters: 7, Silhouette Score: 0.255\n",
      "Clusters: 8, Silhouette Score: 0.257\n",
      "Clusters: 9, Silhouette Score: 0.256\n",
      "Clusters: 10, Silhouette Score: 0.266\n",
      "\n",
      "Optimal number of clusters: 3\n",
      "Cluster 0 size: 179\n",
      "Cluster 1 size: 16\n",
      "Cluster 2 size: 13\n"
     ]
    }
   ],
   "source": [
    "reduced_waveforms = sorting.reduce_dimensions(waveforms, n_components=3)\n",
    "\n",
    "# First, estimate the optimal number of clusters\n",
    "n_clusters = sorting.estimate_clusters(reduced_waveforms)\n",
    "\n",
    "# Then cluster with the optimal number\n",
    "labels = sorting.cluster_spikes(reduced_waveforms, n_clusters=n_clusters)"
   ]
  },
  {
   "cell_type": "markdown",
   "metadata": {},
   "source": [
    "2. Plot and save clustering waveforms figure"
   ]
  },
  {
   "cell_type": "code",
   "execution_count": 3,
   "metadata": {},
   "outputs": [],
   "source": [
    "sorting.plot_clustering_summary(\n",
    "    waveforms, \n",
    "    reduced_waveforms, \n",
    "    labels,\n",
    "    save_path=os.path.join(results_dir, 'clustering_summary.png'),\n",
    "    display=True\n",
    ")"
   ]
  },
  {
   "cell_type": "markdown",
   "metadata": {},
   "source": [
    "3. Add unit labels to detected spikes and save"
   ]
  },
  {
   "cell_type": "code",
   "execution_count": 4,
   "metadata": {},
   "outputs": [],
   "source": [
    "spikes_df = pd.read_csv(os.path.join(results_dir, 'detected_spikes.csv'))\n",
    "unit_labels = [f'unit_{label + 1}' for label in labels]  # Convert cluster numbers to unit labels\n",
    "spikes_df['unit'] = unit_labels\n",
    "spikes_df.to_csv(os.path.join(results_dir, 'sorted_spikes.csv'), index=False)"
   ]
  },
  {
   "cell_type": "markdown",
   "metadata": {},
   "source": [
    "6. Plot processed data with spikes coloured by unit"
   ]
  },
  {
   "cell_type": "code",
   "execution_count": 5,
   "metadata": {},
   "outputs": [],
   "source": [
    "processed_data = pd.read_csv(os.path.join(results_dir, 'processed_data.csv'))\n",
    "\n",
    "sorting.plot_sorted_spikes(\n",
    "    processed_data,\n",
    "    spikes_df,\n",
    "    save_path=os.path.join(results_dir, 'sorted_spikes.png'),\n",
    "    display=True\n",
    ")"
   ]
  }
 ],
 "metadata": {
  "kernelspec": {
   "display_name": "venv",
   "language": "python",
   "name": "python3"
  },
  "language_info": {
   "codemirror_mode": {
    "name": "ipython",
    "version": 3
   },
   "file_extension": ".py",
   "mimetype": "text/x-python",
   "name": "python",
   "nbconvert_exporter": "python",
   "pygments_lexer": "ipython3",
   "version": "3.11.9"
  }
 },
 "nbformat": 4,
 "nbformat_minor": 2
}
