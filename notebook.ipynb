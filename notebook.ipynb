{
 "cells": [
  {
   "cell_type": "markdown",
   "metadata": {},
   "source": [
    "## **GRNsuite notebook** \n",
    "\n",
    "Package assumes that the raw electrophysiology data is contained in a .txt file contained in the data folder. "
   ]
  },
  {
   "cell_type": "code",
   "execution_count": 1,
   "metadata": {},
   "outputs": [
    {
     "name": "stdout",
     "output_type": "stream",
     "text": [
      "{'date': '20231103', 'animal_id': 'M04', 'stimulus': 'sucr', 'concentration': '100', 'location': 'Gal', 'sensillum': 'A1', 'replicate': '02'}\n"
     ]
    }
   ],
   "source": [
    "import grnsuite.io as io\n",
    "\n",
    "filename = \"20231103-M04-sucr-100-Gal-A1-02.txt\"\n",
    "\n",
    "metadata = io.extract_metadata(filename)\n",
    "\n",
    "print(metadata)\n"
   ]
  },
  {
   "cell_type": "markdown",
   "metadata": {},
   "source": [
    "Set the sampling rate, offset time, and analysis length"
   ]
  },
  {
   "cell_type": "code",
   "execution_count": 2,
   "metadata": {},
   "outputs": [],
   "source": [
    "# sampling rate\n",
    "fs = 30000\n",
    "\n",
    "# offset time\n",
    "offset_time = 0.1 #set to 0.1 seconds\n",
    "\n",
    "# analysis length\n",
    "analysis_length = 2 #set to 2 seconds\n",
    "\n"
   ]
  },
  {
   "cell_type": "markdown",
   "metadata": {},
   "source": [
    "Inspect the raw recording to determine the start of the recording. This will be automatically detected using the large contact artifact."
   ]
  },
  {
   "cell_type": "code",
   "execution_count": 3,
   "metadata": {},
   "outputs": [
    {
     "name": "stdout",
     "output_type": "stream",
     "text": [
      "[86.975098 86.975098 87.280273 86.364746 86.975098 85.754395 86.669922\n",
      " 86.669922 86.364746 86.05957 ]\n",
      "[3475.646973 3473.510742 3467.712402 3461.914063 3454.284668 3451.23291\n",
      " 3440.246582 3431.70166  3423.461914 3413.391113]\n"
     ]
    }
   ],
   "source": [
    "import grnsuite.preprocessing as preprocessing\n",
    "import os \n",
    "import matplotlib\n",
    "matplotlib.use(\"TkAgg\")  # Ensures the correct interactive backend is used\n",
    "\n",
    "\n",
    "## 1. Load data\n",
    "# combine filename and data/ folder:\n",
    "filepath = os.path.join(\"data\", filename)\n",
    "raw_data = preprocessing.load_ephys_data(filepath)\n",
    "print(raw_data[:10])  # Show first 10 values\n",
    "\n",
    "## 2. Define start of recording\n",
    "selected_signal = preprocessing.interactive_contact_selection(raw_data)  # Adjust & extract\n",
    "print(selected_signal[:10])  # Show first 10 values\n"
   ]
  },
  {
   "cell_type": "markdown",
   "metadata": {},
   "source": [
    "Filter the raw signal"
   ]
  },
  {
   "cell_type": "code",
   "execution_count": 4,
   "metadata": {},
   "outputs": [],
   "source": [
    "import matplotlib.pyplot as plt\n",
    "\n",
    "# Apply a bandpass filter from 100-1000 Hz\n",
    "filtered_data = preprocessing.ashfilt(selected_signal, [100, 1000], 'bandpass', fs=fs)\n",
    "\n",
    "# Apply noise removal (removes 50, 100, 150 Hz harmonics)\n",
    "denoised_data = preprocessing.ashfilt(filtered_data, None, 'noise', fs=fs)\n",
    "\n",
    "# Plot results in three panels (selected_signal, filtered_data, denoised data)\n",
    "plt.figure(figsize=(10, 5))\n",
    "plt.subplot(3, 1, 1)\n",
    "plt.plot(selected_signal, label=\"Raw Signal\", alpha=0.5)\n",
    "plt.legend()\n",
    "plt.title(\"Raw Signal\")\n",
    "\n",
    "plt.subplot(3, 1, 2)\n",
    "plt.plot(filtered_data, label=\"Filtered (100-1000 Hz)\", alpha=0.8)\n",
    "plt.legend()\n",
    "plt.title(\"Filtered Signal\")   \n",
    "\n",
    "plt.subplot(3, 1, 3)\n",
    "plt.plot(denoised_data, label=\"Denoised\", alpha=0.8)\n",
    "plt.legend()\n",
    "plt.title(\"Denoised Signal\")\n",
    "\n",
    "plt.tight_layout()\n",
    "plt.show()"
   ]
  },
  {
   "cell_type": "markdown",
   "metadata": {},
   "source": [
    "Zoom in on region of interest and fix time from samples to seconds."
   ]
  },
  {
   "cell_type": "code",
   "execution_count": 5,
   "metadata": {},
   "outputs": [],
   "source": [
    "import grnsuite.preprocessing\n",
    "\n",
    "# zoom in on the region of interest and create time array\n",
    "data_zoomed, current_time = preprocessing.zoom_data(denoised_data, fs, offset_time, analysis_length)\n",
    "\n",
    "# plot current_time and data_zoomed\n",
    "plt.figure(figsize=(10, 5))\n",
    "plt.plot(current_time, data_zoomed, label=\"Zoomed Data\", alpha=0.8)\n",
    "plt.legend()\n",
    "plt.title(\"Zoomed Data\")\n",
    "plt.show()"
   ]
  },
  {
   "cell_type": "markdown",
   "metadata": {},
   "source": [
    "Option 1: Spike detection using the Schmidt trigger function"
   ]
  },
  {
   "cell_type": "code",
   "execution_count": 6,
   "metadata": {},
   "outputs": [
    {
     "name": "stdout",
     "output_type": "stream",
     "text": [
      "[np.float64(44.619782650921614), np.float64(59.51225213642264)]\n",
      "208\n"
     ]
    }
   ],
   "source": [
    "import grnsuite.spike_detection as spikes\n",
    "import numpy as np\n",
    "\n",
    "# apply the schmidt trigger function \n",
    "## ** DECREASE t1 and t2 FOR INCREASED SENSITIVITY  **\n",
    "spike_times, spike_values, schmidt_threshold = spikes.schmidt_trigger_auto(data_zoomed, current_time=None, t1=0.75, t2=1)\n",
    "\n",
    "# plot the results as spike times plotted over the filtered data\n",
    "plt.figure(figsize=(10, 5))\n",
    "plt.plot(data_zoomed, label=\"Filtered Signal\", alpha=0.5)\n",
    "plt.scatter(spike_times, spike_values, color='red', label=\"Detected Spikes\")\n",
    "plt.legend()\n",
    "plt.title(\"Schmidt Trigger Spike Detection\")\n",
    "plt.show()\n",
    "\n",
    "print(schmidt_threshold)\n",
    "print(len(spike_times))"
   ]
  },
  {
   "cell_type": "markdown",
   "metadata": {},
   "source": [
    "Option 2: adjust the upper threshold from schmidt_trigger and re-extract spikes"
   ]
  },
  {
   "cell_type": "code",
   "execution_count": 7,
   "metadata": {},
   "outputs": [
    {
     "name": "stdout",
     "output_type": "stream",
     "text": [
      "User-selected threshold: 59.51225213642264\n"
     ]
    }
   ],
   "source": [
    "import grnsuite.spike_detection as spikes\n",
    "\n",
    "# Allow user to adjust the threshold manually\n",
    "manual_threshold = spikes.adjust_threshold(data_zoomed, schmidt_threshold[1])\n",
    "\n",
    "print(\"User-selected threshold:\", manual_threshold)"
   ]
  },
  {
   "cell_type": "markdown",
   "metadata": {},
   "source": [
    "Extract spikes again using manual threshold"
   ]
  },
  {
   "cell_type": "code",
   "execution_count": 8,
   "metadata": {},
   "outputs": [
    {
     "name": "stdout",
     "output_type": "stream",
     "text": [
      "User-selected threshold: 59.51225213642264\n",
      "number of spikes detected: 208\n"
     ]
    }
   ],
   "source": [
    "import grnsuite.spike_detection as spikes\n",
    "\n",
    "# re-extract spikes with the new threshold\n",
    "spike_times, spike_values = spikes.detect_spikes_manual_threshold(data_zoomed, threshold=manual_threshold)\n",
    "\n",
    "print(\"User-selected threshold:\", manual_threshold)\n",
    "print(\"number of spikes detected:\", len(spike_times))\n",
    "\n",
    "plt.plot(data_zoomed, label=\"Filtered Signal\", alpha=0.5)\n",
    "plt.scatter(spike_times, spike_values, color='red', label=\"Detected Spikes\")\n",
    "plt.legend()\n",
    "plt.title(\"Manual Threshold Spike Detection\")\n",
    "plt.show()"
   ]
  },
  {
   "cell_type": "markdown",
   "metadata": {},
   "source": [
    "Save waveforms (+/- 2ms around the peak)"
   ]
  },
  {
   "cell_type": "code",
   "execution_count": 10,
   "metadata": {},
   "outputs": [
    {
     "name": "stdout",
     "output_type": "stream",
     "text": [
      "Extracted Waveforms Shape: (208, 60)\n"
     ]
    }
   ],
   "source": [
    "import grnsuite.spike_detection as spikes\n",
    "# using spike_times# Extract waveforms around detected spikes\n",
    "waveforms = spikes.extract_waveforms(data_zoomed, spike_times, fs)\n",
    "\n",
    "print(\"Extracted Waveforms Shape:\", waveforms.shape)  # Should be (num_spikes, window_samples)\n",
    "\n",
    "# Plot waveforms\n",
    "spikes.plot_waveforms(waveforms)\n"
   ]
  }
 ],
 "metadata": {
  "kernelspec": {
   "display_name": "venv",
   "language": "python",
   "name": "python3"
  },
  "language_info": {
   "codemirror_mode": {
    "name": "ipython",
    "version": 3
   },
   "file_extension": ".py",
   "mimetype": "text/x-python",
   "name": "python",
   "nbconvert_exporter": "python",
   "pygments_lexer": "ipython3",
   "version": "3.11.9"
  }
 },
 "nbformat": 4,
 "nbformat_minor": 2
}
