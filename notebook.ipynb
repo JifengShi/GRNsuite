{
 "cells": [
  {
   "cell_type": "markdown",
   "metadata": {},
   "source": [
    "## **GRNsuite notebook** \n",
    "\n",
    "Package assumes that the raw electrophysiology data is contained in a .txt file contained in the data folder. "
   ]
  },
  {
   "cell_type": "code",
   "execution_count": 1,
   "metadata": {},
   "outputs": [
    {
     "name": "stdout",
     "output_type": "stream",
     "text": [
      "{'date': '20231103', 'animal_id': 'M04', 'stimulus': 'sucr', 'concentration': '100', 'location': 'Gal', 'sensillum': 'A1', 'replicate': '02'}\n"
     ]
    }
   ],
   "source": [
    "import grnsuite.io as io\n",
    "\n",
    "filename = \"20231103-M04-sucr-100-Gal-A1-02.txt\"\n",
    "\n",
    "metadata = io.extract_metadata(filename)\n",
    "\n",
    "print(metadata)\n"
   ]
  },
  {
   "cell_type": "markdown",
   "metadata": {},
   "source": [
    "Inspect the raw recording to determine the start of the recording. This will be automatically detected using the large contact artifact."
   ]
  },
  {
   "cell_type": "code",
   "execution_count": 2,
   "metadata": {},
   "outputs": [
    {
     "name": "stdout",
     "output_type": "stream",
     "text": [
      "[86.975098 86.975098 87.280273 86.364746 86.975098 85.754395 86.669922\n",
      " 86.669922 86.364746 86.05957 ]\n",
      "[3475.646973 3473.510742 3467.712402 3461.914063 3454.284668 3451.23291\n",
      " 3440.246582 3431.70166  3423.461914 3413.391113]\n"
     ]
    }
   ],
   "source": [
    "import grnsuite.preprocessing as preprocessing\n",
    "import os \n",
    "import matplotlib\n",
    "matplotlib.use(\"TkAgg\")  # Ensures the correct interactive backend is used\n",
    "\n",
    "\n",
    "## 1. Load data\n",
    "# combine filename and data/ folder:\n",
    "filepath = os.path.join(\"data\", filename)\n",
    "raw_data = preprocessing.load_ephys_data(filepath)\n",
    "print(raw_data[:10])  # Show first 10 values\n",
    "\n",
    "## 2. Define start of recording\n",
    "selected_signal = preprocessing.interactive_contact_selection(raw_data)  # Adjust & extract\n",
    "print(selected_signal[:10])  # Show first 10 values\n"
   ]
  },
  {
   "cell_type": "markdown",
   "metadata": {},
   "source": [
    "Filter the raw signal"
   ]
  },
  {
   "cell_type": "code",
   "execution_count": 4,
   "metadata": {},
   "outputs": [],
   "source": [
    "import matplotlib.pyplot as plt\n",
    "\n",
    "# Apply a bandpass filter from 100-1000 Hz\n",
    "filtered_data = preprocessing.ashfilt(selected_signal, [100, 1000], 'bandpass', fs=30000)\n",
    "\n",
    "# Apply noise removal (removes 50, 100, 150 Hz harmonics)\n",
    "denoised_data = preprocessing.ashfilt(filtered_data, None, 'noise', fs=30000)\n",
    "\n",
    "# Plot result\n",
    "plt.figure(figsize=(10, 5))\n",
    "plt.plot(selected_signal, label=\"Raw Signal\", alpha=0.5)\n",
    "plt.plot(filtered_data, label=\"Filtered (100-1000 Hz)\", alpha=0.8)\n",
    "plt.legend()\n",
    "plt.title(\"Electrophysiology Signal Filtering\")\n",
    "plt.show()\n"
   ]
  }
 ],
 "metadata": {
  "kernelspec": {
   "display_name": "venv",
   "language": "python",
   "name": "python3"
  },
  "language_info": {
   "codemirror_mode": {
    "name": "ipython",
    "version": 3
   },
   "file_extension": ".py",
   "mimetype": "text/x-python",
   "name": "python",
   "nbconvert_exporter": "python",
   "pygments_lexer": "ipython3",
   "version": "3.11.9"
  }
 },
 "nbformat": 4,
 "nbformat_minor": 2
}
